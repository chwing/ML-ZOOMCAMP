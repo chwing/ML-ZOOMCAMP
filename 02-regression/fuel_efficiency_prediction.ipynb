{
 "cells": [
  {
   "cell_type": "code",
   "execution_count": 98,
   "id": "da136a14",
   "metadata": {},
   "outputs": [],
   "source": [
    "import pandas as pd\n",
    "import numpy as np"
   ]
  },
  {
   "cell_type": "markdown",
   "id": "85377089",
   "metadata": {},
   "source": [
    "getting data\n"
   ]
  },
  {
   "cell_type": "code",
   "execution_count": 99,
   "id": "2b0b3ed7",
   "metadata": {},
   "outputs": [
    {
     "data": {
      "text/html": [
       "<div>\n",
       "<style scoped>\n",
       "    .dataframe tbody tr th:only-of-type {\n",
       "        vertical-align: middle;\n",
       "    }\n",
       "\n",
       "    .dataframe tbody tr th {\n",
       "        vertical-align: top;\n",
       "    }\n",
       "\n",
       "    .dataframe thead th {\n",
       "        text-align: right;\n",
       "    }\n",
       "</style>\n",
       "<table border=\"1\" class=\"dataframe\">\n",
       "  <thead>\n",
       "    <tr style=\"text-align: right;\">\n",
       "      <th></th>\n",
       "      <th>engine_displacement</th>\n",
       "      <th>num_cylinders</th>\n",
       "      <th>horsepower</th>\n",
       "      <th>vehicle_weight</th>\n",
       "      <th>acceleration</th>\n",
       "      <th>model_year</th>\n",
       "      <th>origin</th>\n",
       "      <th>fuel_type</th>\n",
       "      <th>drivetrain</th>\n",
       "      <th>num_doors</th>\n",
       "      <th>fuel_efficiency_mpg</th>\n",
       "    </tr>\n",
       "  </thead>\n",
       "  <tbody>\n",
       "    <tr>\n",
       "      <th>0</th>\n",
       "      <td>170</td>\n",
       "      <td>3.0</td>\n",
       "      <td>159.0</td>\n",
       "      <td>3413.433759</td>\n",
       "      <td>17.7</td>\n",
       "      <td>2003</td>\n",
       "      <td>Europe</td>\n",
       "      <td>Gasoline</td>\n",
       "      <td>All-wheel drive</td>\n",
       "      <td>0.0</td>\n",
       "      <td>13.231729</td>\n",
       "    </tr>\n",
       "    <tr>\n",
       "      <th>1</th>\n",
       "      <td>130</td>\n",
       "      <td>5.0</td>\n",
       "      <td>97.0</td>\n",
       "      <td>3149.664934</td>\n",
       "      <td>17.8</td>\n",
       "      <td>2007</td>\n",
       "      <td>USA</td>\n",
       "      <td>Gasoline</td>\n",
       "      <td>Front-wheel drive</td>\n",
       "      <td>0.0</td>\n",
       "      <td>13.688217</td>\n",
       "    </tr>\n",
       "    <tr>\n",
       "      <th>2</th>\n",
       "      <td>170</td>\n",
       "      <td>NaN</td>\n",
       "      <td>78.0</td>\n",
       "      <td>3079.038997</td>\n",
       "      <td>15.1</td>\n",
       "      <td>2018</td>\n",
       "      <td>Europe</td>\n",
       "      <td>Gasoline</td>\n",
       "      <td>Front-wheel drive</td>\n",
       "      <td>0.0</td>\n",
       "      <td>14.246341</td>\n",
       "    </tr>\n",
       "    <tr>\n",
       "      <th>3</th>\n",
       "      <td>220</td>\n",
       "      <td>4.0</td>\n",
       "      <td>NaN</td>\n",
       "      <td>2542.392402</td>\n",
       "      <td>20.2</td>\n",
       "      <td>2009</td>\n",
       "      <td>USA</td>\n",
       "      <td>Diesel</td>\n",
       "      <td>All-wheel drive</td>\n",
       "      <td>2.0</td>\n",
       "      <td>16.912736</td>\n",
       "    </tr>\n",
       "    <tr>\n",
       "      <th>4</th>\n",
       "      <td>210</td>\n",
       "      <td>1.0</td>\n",
       "      <td>140.0</td>\n",
       "      <td>3460.870990</td>\n",
       "      <td>14.4</td>\n",
       "      <td>2009</td>\n",
       "      <td>Europe</td>\n",
       "      <td>Gasoline</td>\n",
       "      <td>All-wheel drive</td>\n",
       "      <td>2.0</td>\n",
       "      <td>12.488369</td>\n",
       "    </tr>\n",
       "  </tbody>\n",
       "</table>\n",
       "</div>"
      ],
      "text/plain": [
       "   engine_displacement  num_cylinders  horsepower  vehicle_weight  \\\n",
       "0                  170            3.0       159.0     3413.433759   \n",
       "1                  130            5.0        97.0     3149.664934   \n",
       "2                  170            NaN        78.0     3079.038997   \n",
       "3                  220            4.0         NaN     2542.392402   \n",
       "4                  210            1.0       140.0     3460.870990   \n",
       "\n",
       "   acceleration  model_year  origin fuel_type         drivetrain  num_doors  \\\n",
       "0          17.7        2003  Europe  Gasoline    All-wheel drive        0.0   \n",
       "1          17.8        2007     USA  Gasoline  Front-wheel drive        0.0   \n",
       "2          15.1        2018  Europe  Gasoline  Front-wheel drive        0.0   \n",
       "3          20.2        2009     USA    Diesel    All-wheel drive        2.0   \n",
       "4          14.4        2009  Europe  Gasoline    All-wheel drive        2.0   \n",
       "\n",
       "   fuel_efficiency_mpg  \n",
       "0            13.231729  \n",
       "1            13.688217  \n",
       "2            14.246341  \n",
       "3            16.912736  \n",
       "4            12.488369  "
      ]
     },
     "execution_count": 99,
     "metadata": {},
     "output_type": "execute_result"
    }
   ],
   "source": [
    "df = pd.read_csv('https://raw.githubusercontent.com/alexeygrigorev/datasets/master/car_fuel_efficiency.csv')\n",
    "len(df)\n",
    "df.head()"
   ]
  },
  {
   "cell_type": "markdown",
   "id": "4d9818b4",
   "metadata": {},
   "source": [
    "clean and make data uniformed"
   ]
  },
  {
   "cell_type": "code",
   "execution_count": 100,
   "id": "4a61205e",
   "metadata": {},
   "outputs": [
    {
     "data": {
      "text/html": [
       "<div>\n",
       "<style scoped>\n",
       "    .dataframe tbody tr th:only-of-type {\n",
       "        vertical-align: middle;\n",
       "    }\n",
       "\n",
       "    .dataframe tbody tr th {\n",
       "        vertical-align: top;\n",
       "    }\n",
       "\n",
       "    .dataframe thead th {\n",
       "        text-align: right;\n",
       "    }\n",
       "</style>\n",
       "<table border=\"1\" class=\"dataframe\">\n",
       "  <thead>\n",
       "    <tr style=\"text-align: right;\">\n",
       "      <th></th>\n",
       "      <th>engine_displacement</th>\n",
       "      <th>num_cylinders</th>\n",
       "      <th>horsepower</th>\n",
       "      <th>vehicle_weight</th>\n",
       "      <th>acceleration</th>\n",
       "      <th>model_year</th>\n",
       "      <th>origin</th>\n",
       "      <th>fuel_type</th>\n",
       "      <th>drivetrain</th>\n",
       "      <th>num_doors</th>\n",
       "      <th>fuel_efficiency_mpg</th>\n",
       "    </tr>\n",
       "  </thead>\n",
       "  <tbody>\n",
       "    <tr>\n",
       "      <th>0</th>\n",
       "      <td>170</td>\n",
       "      <td>3.0</td>\n",
       "      <td>159.0</td>\n",
       "      <td>3413.433759</td>\n",
       "      <td>17.7</td>\n",
       "      <td>2003</td>\n",
       "      <td>europe</td>\n",
       "      <td>gasoline</td>\n",
       "      <td>all-wheel_drive</td>\n",
       "      <td>0.0</td>\n",
       "      <td>13.231729</td>\n",
       "    </tr>\n",
       "    <tr>\n",
       "      <th>1</th>\n",
       "      <td>130</td>\n",
       "      <td>5.0</td>\n",
       "      <td>97.0</td>\n",
       "      <td>3149.664934</td>\n",
       "      <td>17.8</td>\n",
       "      <td>2007</td>\n",
       "      <td>usa</td>\n",
       "      <td>gasoline</td>\n",
       "      <td>front-wheel_drive</td>\n",
       "      <td>0.0</td>\n",
       "      <td>13.688217</td>\n",
       "    </tr>\n",
       "    <tr>\n",
       "      <th>2</th>\n",
       "      <td>170</td>\n",
       "      <td>NaN</td>\n",
       "      <td>78.0</td>\n",
       "      <td>3079.038997</td>\n",
       "      <td>15.1</td>\n",
       "      <td>2018</td>\n",
       "      <td>europe</td>\n",
       "      <td>gasoline</td>\n",
       "      <td>front-wheel_drive</td>\n",
       "      <td>0.0</td>\n",
       "      <td>14.246341</td>\n",
       "    </tr>\n",
       "    <tr>\n",
       "      <th>3</th>\n",
       "      <td>220</td>\n",
       "      <td>4.0</td>\n",
       "      <td>NaN</td>\n",
       "      <td>2542.392402</td>\n",
       "      <td>20.2</td>\n",
       "      <td>2009</td>\n",
       "      <td>usa</td>\n",
       "      <td>diesel</td>\n",
       "      <td>all-wheel_drive</td>\n",
       "      <td>2.0</td>\n",
       "      <td>16.912736</td>\n",
       "    </tr>\n",
       "    <tr>\n",
       "      <th>4</th>\n",
       "      <td>210</td>\n",
       "      <td>1.0</td>\n",
       "      <td>140.0</td>\n",
       "      <td>3460.870990</td>\n",
       "      <td>14.4</td>\n",
       "      <td>2009</td>\n",
       "      <td>europe</td>\n",
       "      <td>gasoline</td>\n",
       "      <td>all-wheel_drive</td>\n",
       "      <td>2.0</td>\n",
       "      <td>12.488369</td>\n",
       "    </tr>\n",
       "  </tbody>\n",
       "</table>\n",
       "</div>"
      ],
      "text/plain": [
       "   engine_displacement  num_cylinders  horsepower  vehicle_weight  \\\n",
       "0                  170            3.0       159.0     3413.433759   \n",
       "1                  130            5.0        97.0     3149.664934   \n",
       "2                  170            NaN        78.0     3079.038997   \n",
       "3                  220            4.0         NaN     2542.392402   \n",
       "4                  210            1.0       140.0     3460.870990   \n",
       "\n",
       "   acceleration  model_year  origin fuel_type         drivetrain  num_doors  \\\n",
       "0          17.7        2003  europe  gasoline    all-wheel_drive        0.0   \n",
       "1          17.8        2007     usa  gasoline  front-wheel_drive        0.0   \n",
       "2          15.1        2018  europe  gasoline  front-wheel_drive        0.0   \n",
       "3          20.2        2009     usa    diesel    all-wheel_drive        2.0   \n",
       "4          14.4        2009  europe  gasoline    all-wheel_drive        2.0   \n",
       "\n",
       "   fuel_efficiency_mpg  \n",
       "0            13.231729  \n",
       "1            13.688217  \n",
       "2            14.246341  \n",
       "3            16.912736  \n",
       "4            12.488369  "
      ]
     },
     "execution_count": 100,
     "metadata": {},
     "output_type": "execute_result"
    }
   ],
   "source": [
    "df.columns=df.columns.str.lower().str.replace(' ','_')\n",
    "string_columns = list(df.dtypes[df.dtypes=='object'].index)\n",
    "for col in string_columns:\n",
    "    df[col] = df[col].str.lower().str.replace(' ','_')\n",
    "\n",
    "df.head()\n"
   ]
  },
  {
   "cell_type": "code",
   "execution_count": 101,
   "id": "3bac97da",
   "metadata": {},
   "outputs": [
    {
     "data": {
      "text/html": [
       "<div>\n",
       "<style scoped>\n",
       "    .dataframe tbody tr th:only-of-type {\n",
       "        vertical-align: middle;\n",
       "    }\n",
       "\n",
       "    .dataframe tbody tr th {\n",
       "        vertical-align: top;\n",
       "    }\n",
       "\n",
       "    .dataframe thead th {\n",
       "        text-align: right;\n",
       "    }\n",
       "</style>\n",
       "<table border=\"1\" class=\"dataframe\">\n",
       "  <thead>\n",
       "    <tr style=\"text-align: right;\">\n",
       "      <th></th>\n",
       "      <th>engine_displacement</th>\n",
       "      <th>horsepower</th>\n",
       "      <th>vehicle_weight</th>\n",
       "      <th>fuel_efficiency_mpg</th>\n",
       "      <th>model_year</th>\n",
       "    </tr>\n",
       "  </thead>\n",
       "  <tbody>\n",
       "    <tr>\n",
       "      <th>0</th>\n",
       "      <td>170</td>\n",
       "      <td>159.0</td>\n",
       "      <td>3413.433759</td>\n",
       "      <td>13.231729</td>\n",
       "      <td>2003</td>\n",
       "    </tr>\n",
       "    <tr>\n",
       "      <th>1</th>\n",
       "      <td>130</td>\n",
       "      <td>97.0</td>\n",
       "      <td>3149.664934</td>\n",
       "      <td>13.688217</td>\n",
       "      <td>2007</td>\n",
       "    </tr>\n",
       "    <tr>\n",
       "      <th>2</th>\n",
       "      <td>170</td>\n",
       "      <td>78.0</td>\n",
       "      <td>3079.038997</td>\n",
       "      <td>14.246341</td>\n",
       "      <td>2018</td>\n",
       "    </tr>\n",
       "    <tr>\n",
       "      <th>3</th>\n",
       "      <td>220</td>\n",
       "      <td>NaN</td>\n",
       "      <td>2542.392402</td>\n",
       "      <td>16.912736</td>\n",
       "      <td>2009</td>\n",
       "    </tr>\n",
       "    <tr>\n",
       "      <th>4</th>\n",
       "      <td>210</td>\n",
       "      <td>140.0</td>\n",
       "      <td>3460.870990</td>\n",
       "      <td>12.488369</td>\n",
       "      <td>2009</td>\n",
       "    </tr>\n",
       "  </tbody>\n",
       "</table>\n",
       "</div>"
      ],
      "text/plain": [
       "   engine_displacement  horsepower  vehicle_weight  fuel_efficiency_mpg  \\\n",
       "0                  170       159.0     3413.433759            13.231729   \n",
       "1                  130        97.0     3149.664934            13.688217   \n",
       "2                  170        78.0     3079.038997            14.246341   \n",
       "3                  220         NaN     2542.392402            16.912736   \n",
       "4                  210       140.0     3460.870990            12.488369   \n",
       "\n",
       "   model_year  \n",
       "0        2003  \n",
       "1        2007  \n",
       "2        2018  \n",
       "3        2009  \n",
       "4        2009  "
      ]
     },
     "execution_count": 101,
     "metadata": {},
     "output_type": "execute_result"
    }
   ],
   "source": [
    "    columns=['engine_displacement','horsepower','vehicle_weight','fuel_efficiency_mpg','model_year']\n",
    "    df = df[columns]\n",
    "    df.head()"
   ]
  },
  {
   "cell_type": "markdown",
   "id": "6795a447",
   "metadata": {},
   "source": [
    "finding horsepower mean //Q2\n"
   ]
  },
  {
   "cell_type": "code",
   "execution_count": 102,
   "id": "a19497cc",
   "metadata": {},
   "outputs": [
    {
     "data": {
      "text/plain": [
       "np.float64(149.0)"
      ]
     },
     "execution_count": 102,
     "metadata": {},
     "output_type": "execute_result"
    }
   ],
   "source": [
    "horsepower_median = df['horsepower'].median()\n",
    "horsepower_median"
   ]
  },
  {
   "cell_type": "code",
   "execution_count": 103,
   "id": "4db6c10f",
   "metadata": {},
   "outputs": [
    {
     "data": {
      "text/plain": [
       "np.float64(149.65729212983547)"
      ]
     },
     "execution_count": 103,
     "metadata": {},
     "output_type": "execute_result"
    }
   ],
   "source": [
    "horsepower_mean = df['horsepower'].mean()\n",
    "horsepower_mean\n"
   ]
  },
  {
   "cell_type": "code",
   "execution_count": 104,
   "id": "b1bc5309",
   "metadata": {},
   "outputs": [
    {
     "data": {
      "text/plain": [
       "(np.float64(271.0), np.float64(37.0), np.float64(154.0))"
      ]
     },
     "execution_count": 104,
     "metadata": {},
     "output_type": "execute_result"
    }
   ],
   "source": [
    "horsepower_max = df['horsepower'].max()\n",
    "horsepower_min = df['horsepower'].min()\n",
    "horsepower_mid = (horsepower_max + horsepower_min)/2\n",
    "horsepower_max, horsepower_min, horsepower_mid\n"
   ]
  },
  {
   "cell_type": "code",
   "execution_count": 105,
   "id": "40722e46",
   "metadata": {},
   "outputs": [
    {
     "name": "stdout",
     "output_type": "stream",
     "text": [
      "138.73835531739488 149.6572921298355\n"
     ]
    }
   ],
   "source": [
    "horsepower_na_zero= df['horsepower'].fillna(0)\n",
    "horsepower_na_mean= df['horsepower'].fillna(horsepower_mean)\n",
    "horsepower_mean_z= horsepower_na_zero.mean()\n",
    "horsepower_mean_m= horsepower_na_mean.mean()\n",
    "print(horsepower_mean_z, horsepower_mean_m)"
   ]
  },
  {
   "cell_type": "markdown",
   "id": "6c79d8b0",
   "metadata": {},
   "source": [
    "choosing to fil NAs with zeros and calculate RMSE, than we try with mean instead\n"
   ]
  },
  {
   "cell_type": "markdown",
   "id": "d5de59ed",
   "metadata": {},
   "source": [
    "fill with zeros\n"
   ]
  },
  {
   "cell_type": "code",
   "execution_count": 106,
   "id": "186a9100",
   "metadata": {},
   "outputs": [
    {
     "data": {
      "text/plain": [
       "0       159.0\n",
       "1        97.0\n",
       "2        78.0\n",
       "3         0.0\n",
       "4       140.0\n",
       "        ...  \n",
       "9699    164.0\n",
       "9700    154.0\n",
       "9701    138.0\n",
       "9702    177.0\n",
       "9703    140.0\n",
       "Name: horsepower, Length: 9704, dtype: float64"
      ]
     },
     "execution_count": 106,
     "metadata": {},
     "output_type": "execute_result"
    }
   ],
   "source": [
    "df.horsepower = df.horsepower.fillna(0)\n",
    "df.horsepower \n",
    "\n"
   ]
  },
  {
   "cell_type": "code",
   "execution_count": 107,
   "id": "12766ec6",
   "metadata": {},
   "outputs": [
    {
     "data": {
      "image/png": "[encoded data removed]",
      "text/plain": [
       "<Figure size 640x480 with 1 Axes>"
      ]
     },
     "metadata": {},
     "output_type": "display_data"
    }
   ],
   "source": [
    "import matplotlib.pyplot as plt\n",
    "plt.hist(df.fuel_efficiency_mpg, bins=100)\n",
    "plt.xlabel('Fuel Efficiency (MPG)')\n",
    "plt.ylabel('Count of cars')\n",
    "plt.show()"
   ]
  },
  {
   "cell_type": "markdown",
   "id": "d0ece827",
   "metadata": {},
   "source": [
    "VALIDATION FRAMEWORK"
   ]
  },
  {
   "cell_type": "code",
   "execution_count": 108,
   "id": "dcbcf473",
   "metadata": {},
   "outputs": [],
   "source": [
    "np.random.seed(42)\n",
    "n = len(df)\n",
    "n_val = int(n*0.2)\n",
    "n_test = int(n*0.2)\n",
    "n_train = n - n_val - n_test\n"
   ]
  },
  {
   "cell_type": "code",
   "execution_count": 109,
   "id": "d03ee760",
   "metadata": {},
   "outputs": [
    {
     "data": {
      "text/html": [
       "<div>\n",
       "<style scoped>\n",
       "    .dataframe tbody tr th:only-of-type {\n",
       "        vertical-align: middle;\n",
       "    }\n",
       "\n",
       "    .dataframe tbody tr th {\n",
       "        vertical-align: top;\n",
       "    }\n",
       "\n",
       "    .dataframe thead th {\n",
       "        text-align: right;\n",
       "    }\n",
       "</style>\n",
       "<table border=\"1\" class=\"dataframe\">\n",
       "  <thead>\n",
       "    <tr style=\"text-align: right;\">\n",
       "      <th></th>\n",
       "      <th>engine_displacement</th>\n",
       "      <th>horsepower</th>\n",
       "      <th>vehicle_weight</th>\n",
       "      <th>model_year</th>\n",
       "    </tr>\n",
       "  </thead>\n",
       "  <tbody>\n",
       "    <tr>\n",
       "      <th>483</th>\n",
       "      <td>220</td>\n",
       "      <td>144.0</td>\n",
       "      <td>2535.887591</td>\n",
       "      <td>2009</td>\n",
       "    </tr>\n",
       "    <tr>\n",
       "      <th>7506</th>\n",
       "      <td>160</td>\n",
       "      <td>141.0</td>\n",
       "      <td>2741.170484</td>\n",
       "      <td>2019</td>\n",
       "    </tr>\n",
       "    <tr>\n",
       "      <th>8795</th>\n",
       "      <td>230</td>\n",
       "      <td>155.0</td>\n",
       "      <td>2471.880237</td>\n",
       "      <td>2017</td>\n",
       "    </tr>\n",
       "    <tr>\n",
       "      <th>1688</th>\n",
       "      <td>150</td>\n",
       "      <td>206.0</td>\n",
       "      <td>3748.164469</td>\n",
       "      <td>2015</td>\n",
       "    </tr>\n",
       "    <tr>\n",
       "      <th>6217</th>\n",
       "      <td>300</td>\n",
       "      <td>111.0</td>\n",
       "      <td>2135.716359</td>\n",
       "      <td>2006</td>\n",
       "    </tr>\n",
       "  </tbody>\n",
       "</table>\n",
       "</div>"
      ],
      "text/plain": [
       "      engine_displacement  horsepower  vehicle_weight  model_year\n",
       "483                   220       144.0     2535.887591        2009\n",
       "7506                  160       141.0     2741.170484        2019\n",
       "8795                  230       155.0     2471.880237        2017\n",
       "1688                  150       206.0     3748.164469        2015\n",
       "6217                  300       111.0     2135.716359        2006"
      ]
     },
     "execution_count": 109,
     "metadata": {},
     "output_type": "execute_result"
    }
   ],
   "source": [
    "idx = np.arange(n)\n",
    "np.random.shuffle(idx)\n",
    "\n",
    "df_shuffled = df.iloc[idx]\n",
    "\n",
    "df_train = df_shuffled.iloc[:n_train].copy()\n",
    "df_val = df_shuffled.iloc[n_train:n_train+n_val].copy()\n",
    "df_test = df_shuffled.iloc[n_train+n_val:].copy()\n",
    "\n",
    "y_train_orig = df_train.fuel_efficiency_mpg.values\n",
    "y_val_orig = df_val.fuel_efficiency_mpg.values\n",
    "y_test_orig = df_test.fuel_efficiency_mpg.values\n",
    "\n",
    "y_train = np.array(df_train.fuel_efficiency_mpg.values)\n",
    "y_val = np.array(df_val.fuel_efficiency_mpg.values)\n",
    "y_test = np.array(df_test.fuel_efficiency_mpg.values)\n",
    "\n",
    "del df_train['fuel_efficiency_mpg']\n",
    "del df_val['fuel_efficiency_mpg']\n",
    "del df_test['fuel_efficiency_mpg']\n",
    "df_train.head()\n"
   ]
  },
  {
   "cell_type": "markdown",
   "id": "650c1bde",
   "metadata": {},
   "source": [
    "LINEAR REG"
   ]
  },
  {
   "cell_type": "code",
   "execution_count": 110,
   "id": "9d374e01",
   "metadata": {},
   "outputs": [],
   "source": [
    "def train_linear_regression(X, y):\n",
    "    ones = np.ones(X.shape[0])\n",
    "    X = np.column_stack([ones, X])\n",
    "\n",
    "    XTX = X.T.dot(X)\n",
    "    XTX_inv = np.linalg.inv(XTX)\n",
    "    w = XTX_inv.dot(X.T).dot(y)\n",
    "    \n",
    "    return w[0], w[1:]\n"
   ]
  },
  {
   "cell_type": "code",
   "execution_count": 111,
   "id": "c03f4ef2",
   "metadata": {},
   "outputs": [],
   "source": [
    "X_train = df_train.values\n",
    "w_0, w = train_linear_regression(X_train, y_train)\n",
    "y_pred = w_0 + X_train.dot(w)"
   ]
  },
  {
   "cell_type": "code",
   "execution_count": 112,
   "id": "9a75008c",
   "metadata": {},
   "outputs": [],
   "source": [
    "import seaborn as sns"
   ]
  },
  {
   "cell_type": "code",
   "execution_count": 113,
   "id": "2741ad1c",
   "metadata": {},
   "outputs": [
    {
     "data": {
      "image/png": "[encoded data removed]",
      "text/plain": [
       "<Figure size 600x400 with 1 Axes>"
      ]
     },
     "metadata": {},
     "output_type": "display_data"
    }
   ],
   "source": [
    "plt.figure(figsize=(6, 4))\n",
    "\n",
    "sns.histplot(y_train, label='target', color='#222222', alpha=0.6, bins=40)\n",
    "sns.histplot(y_pred, label='prediction', color='#aaaaaa', alpha=0.8, bins=40)\n",
    "plt.legend()\n",
    "\n",
    "\n",
    "plt.ylabel('Frequency')\n",
    "plt.xlabel('Fuel Efficiency (MPG)')\n",
    "plt.title('Predictions vs actual distribution')\n",
    "\n",
    "plt.show()\n"
   ]
  },
  {
   "cell_type": "code",
   "execution_count": 114,
   "id": "fffa7d5b",
   "metadata": {},
   "outputs": [],
   "source": [
    "def rmse(y, y_pred):\n",
    "    error = y_pred - y\n",
    "    mse = (error ** 2).mean()\n",
    "    return np.sqrt(mse)\n"
   ]
  },
  {
   "cell_type": "code",
   "execution_count": 115,
   "id": "f98283aa",
   "metadata": {},
   "outputs": [
    {
     "data": {
      "text/plain": [
       "np.float64(0.52)"
      ]
     },
     "execution_count": 115,
     "metadata": {},
     "output_type": "execute_result"
    }
   ],
   "source": [
    "score = rmse(y_train, y_pred)\n",
    "round(score, 2)"
   ]
  },
  {
   "cell_type": "markdown",
   "id": "6a59476d",
   "metadata": {},
   "source": [
    "with filling nan vals with mean vals, the rmse is 0.46, but with filling with zeros , the rsme is 0.52"
   ]
  },
  {
   "cell_type": "markdown",
   "id": "00478da9",
   "metadata": {},
   "source": [
    "we going back to filling with zero just for q4"
   ]
  },
  {
   "cell_type": "code",
   "execution_count": 116,
   "id": "510b9d9b",
   "metadata": {},
   "outputs": [],
   "source": [
    "r_list = [0, 0.01, 0.1, 1, 5, 10, 100]"
   ]
  },
  {
   "cell_type": "code",
   "execution_count": 117,
   "id": "806702df",
   "metadata": {},
   "outputs": [],
   "source": [
    "def train_linear_regression_reg(X, y, r=0.0):\n",
    "    ones = np.ones(X.shape[0])\n",
    "    X = np.column_stack([ones, X])\n",
    "\n",
    "    XTX = X.T.dot(X)\n",
    "    reg = r * np.eye(XTX.shape[0])\n",
    "    XTX = XTX + reg\n",
    "\n",
    "    XTX_inv = np.linalg.inv(XTX)\n",
    "    w = XTX_inv.dot(X.T).dot(y)\n",
    "    \n",
    "    return w[0], w[1:]\n"
   ]
  },
  {
   "cell_type": "code",
   "execution_count": 118,
   "id": "19e50b3e",
   "metadata": {},
   "outputs": [
    {
     "name": "stdout",
     "output_type": "stream",
     "text": [
      "0 0.52\n",
      "0.01 0.52\n",
      "0.1 0.524\n",
      "1 0.528\n",
      "5 0.529\n",
      "10 0.529\n",
      "100 0.529\n"
     ]
    }
   ],
   "source": [
    "\n",
    "for r in r_list:\n",
    "    w_0, w = train_linear_regression_reg(X_train, y_train, r)\n",
    "    y_pred = w_0 + X_train.dot(w)\n",
    "    score = rmse(y_train, y_pred)\n",
    "    print(r, round(score, 3))\n"
   ]
  },
  {
   "cell_type": "markdown",
   "id": "92305ce5",
   "metadata": {},
   "source": [
    "we will change the split values now; used to be 42, gonna try different values"
   ]
  },
  {
   "cell_type": "code",
   "execution_count": 120,
   "id": "839a43cf",
   "metadata": {},
   "outputs": [],
   "source": [
    "seed_list =[0, 1, 2, 3, 4, 5, 6, 7, 8, 9]\n",
    "for seed in seed_list:\n",
    "    np.random.seed(seed)\n",
    "    n = len(df)\n",
    "    n_val = int(n*0.2)\n",
    "    n_test = int(n*0.2)\n",
    "    n_train = n - n_val - n_test\n",
    "    idx = np.arange(n)\n",
    "    np.random.shuffle(idx)\n",
    "\n",
    "    df_shuffled = df.iloc[idx]\n",
    "\n",
    "    df_train = df_shuffled.iloc[:n_train].copy()\n",
    "    df_val = df_shuffled.iloc[n_train:n_train+n_val].copy()\n",
    "    df_test = df_shuffled.iloc[n_train+n_val:].copy()\n",
    "\n",
    "    y_train_orig = df_train.fuel_efficiency_mpg.values\n",
    "    y_val_orig = df_val.fuel_efficiency_mpg.values\n",
    "    y_test_orig = df_test.fuel_efficiency_mpg.values\n",
    "\n",
    "\n",
    "    y_train = np.array(df_train.fuel_efficiency_mpg.values)\n",
    "    y_val = np.array(df_val.fuel_efficiency_mpg.values)\n",
    "    y_test = np.array(df_test.fuel_efficiency_mpg.values)\n",
    "\n",
    "    del df_train['fuel_efficiency_mpg']\n",
    "    del df_val['fuel_efficiency_mpg']\n",
    "    del df_test['fuel_efficiency_mpg']\n",
    "    df.fillna(0, inplace=True)\n",
    "    \n",
    "\n"
   ]
  },
  {
   "cell_type": "code",
   "execution_count": 121,
   "id": "7c5cabce",
   "metadata": {},
   "outputs": [
    {
     "name": "stdout",
     "output_type": "stream",
     "text": [
      "validation RMSEs: [np.float64(0.5207), np.float64(0.5213), np.float64(0.5228), np.float64(0.516), np.float64(0.5109), np.float64(0.5283), np.float64(0.5314), np.float64(0.5091), np.float64(0.5147), np.float64(0.5132)]\n",
      "std: 0.007\n"
     ]
    }
   ],
   "source": [
    "# Experiment: try seeds 0..9, 60/20/20 split, fill NAs with 0, train unregularized linear regression\n",
    "# Collect validation RMSEs and print their standard deviation (rounded to 3 decimals)\n",
    "import numpy as np\n",
    "\n",
    "def rmse(y, y_pred):\n",
    "    return np.sqrt(((y - y_pred) ** 2).mean())\n",
    "\n",
    "seed_list = list(range(10))\n",
    "val_scores = []\n",
    "\n",
    "n = len(df)\n",
    "for seed in seed_list:\n",
    "    np.random.seed(seed)\n",
    "    idx = np.arange(n)\n",
    "    np.random.shuffle(idx)\n",
    "    df_shuffled = df.iloc[idx].reset_index(drop=True)\n",
    "\n",
    "    n_val = int(n * 0.2)\n",
    "    n_test = int(n * 0.2)\n",
    "    n_train = n - n_val - n_test\n",
    "\n",
    "    df_train = df_shuffled.iloc[:n_train].copy()\n",
    "    df_val = df_shuffled.iloc[n_train:n_train + n_val].copy()\n",
    "    df_test = df_shuffled.iloc[n_train + n_val:].copy()\n",
    "\n",
    "    # fill NA with 0\n",
    "    df_train = df_train.fillna(0)\n",
    "    df_val = df_val.fillna(0)\n",
    "    df_test = df_test.fillna(0)\n",
    "\n",
    "    y_train = df_train.fuel_efficiency_mpg.values\n",
    "    y_val = df_val.fuel_efficiency_mpg.values\n",
    "\n",
    "    X_train = df_train.drop(columns=['fuel_efficiency_mpg']).values\n",
    "    X_val = df_val.drop(columns=['fuel_efficiency_mpg']).values\n",
    "\n",
    "    w0, w = train_linear_regression(X_train, y_train)\n",
    "    y_val_pred = w0 + X_val.dot(w)\n",
    "    score = rmse(y_val, y_val_pred)\n",
    "    val_scores.append(score)\n",
    "\n",
    "std_val = np.std(val_scores)\n",
    "print('validation RMSEs:', [round(s,4) for s in val_scores])\n",
    "print('std:', round(std_val, 3))\n",
    "# store for later inspection\n",
    "val_scores_all_seeds = val_scores\n",
    "std_val_all_seeds = std_val"
   ]
  },
  {
   "cell_type": "markdown",
   "id": "d39434bf",
   "metadata": {},
   "source": [
    "# Split with seed=9, combine train+val, fill NAs with 0, train with r=0.001 and evaluate on test\n"
   ]
  },
  {
   "cell_type": "code",
   "execution_count": 127,
   "id": "a1551bcc",
   "metadata": {},
   "outputs": [
    {
     "name": "stdout",
     "output_type": "stream",
     "text": [
      "Test RMSE (seed=9, r=0.001): 0.5156\n"
     ]
    }
   ],
   "source": [
    "seed = 9\n",
    "np.random.seed(seed)\n",
    "\n",
    "n = len(df)\n",
    "idx = np.arange(n)\n",
    "np.random.shuffle(idx)\n",
    "df_shuffled = df.iloc[idx].reset_index(drop=True)\n",
    "\n",
    "n_val = int(n * 0.2)\n",
    "n_test = int(n * 0.2)\n",
    "n_train = n - n_val - n_test\n",
    "\n",
    "df_train = df_shuffled.iloc[:n_train].copy()\n",
    "df_val = df_shuffled.iloc[n_train:n_train + n_val].copy()\n",
    "df_test = df_shuffled.iloc[n_train + n_val:].copy()\n",
    "\n",
    "# combine train + validation\n",
    "trainval = pd.concat([df_train, df_val], ignore_index=True)\n",
    "\n",
    "# fill missing values with 0\n",
    "trainval = trainval.fillna(0)\n",
    "df_test = df_test.fillna(0)\n",
    "\n",
    "# prepare X and y\n",
    "y_trainval = trainval.fuel_efficiency_mpg.values\n",
    "X_trainval = trainval.drop(columns=['fuel_efficiency_mpg']).values\n",
    "\n",
    "y_test = df_test.fuel_efficiency_mpg.values\n",
    "X_test = df_test.drop(columns=['fuel_efficiency_mpg']).values\n",
    "\n",
    "# train with regularization r=0.001\n",
    "r = 0.001\n",
    "w0_final, w_final = train_linear_regression_reg(X_trainval, y_trainval, r=r)\n",
    "\n",
    "y_test_pred = w0_final + X_test.dot(w_final)\n",
    "\n",
    "test_rmse = rmse(y_test, y_test_pred)\n",
    "print('Test RMSE (seed=9, r=0.001):', round(test_rmse, 4))\n",
    "# store result\n",
    "test_rmse_seed9_r0001 = test_rmse"
   ]
  },
  {
   "cell_type": "code",
   "execution_count": null,
   "id": "c022e495",
   "metadata": {},
   "outputs": [],
   "source": []
  }
 ],
 "metadata": {
  "kernelspec": {
   "display_name": "Python 3",
   "language": "python",
   "name": "python3"
  },
  "language_info": {
   "codemirror_mode": {
    "name": "ipython",
    "version": 3
   },
   "file_extension": ".py",
   "mimetype": "text/x-python",
   "name": "python",
   "nbconvert_exporter": "python",
   "pygments_lexer": "ipython3",
   "version": "3.12.10"
  }
 },
 "nbformat": 4,
 "nbformat_minor": 5
}
